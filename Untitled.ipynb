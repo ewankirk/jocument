{
 "cells": [
  {
   "cell_type": "code",
   "execution_count": 4,
   "metadata": {
    "ExecuteTime": {
     "end_time": "2019-07-07T07:28:25.963208Z",
     "start_time": "2019-07-07T07:28:25.956698Z"
    }
   },
   "outputs": [],
   "source": [
    "from jocument import Footnotes"
   ]
  },
  {
   "cell_type": "code",
   "execution_count": 5,
   "metadata": {
    "ExecuteTime": {
     "end_time": "2019-07-07T07:28:25.979372Z",
     "start_time": "2019-07-07T07:28:25.966983Z"
    }
   },
   "outputs": [],
   "source": [
    "footnotes = Footnotes()\n",
    "footnotes.add('first_note',\n",
    "'''This is the first footnote''')"
   ]
  },
  {
   "cell_type": "markdown",
   "metadata": {
    "variables": {
     "footnotes.num('first_note')": "<a id=fnret_1 href=#fn_1>1</a>",
     "footnotes.ref('first_note')": "<sup><a id=fnret_1 href=#fn_1>1</a></sup>"
    }
   },
   "source": [
    "This is a sentence with a footnote.{{footnotes.ref('first_note')}} We can also refer to footnote {{footnotes.num('first_note')}} in the text."
   ]
  },
  {
   "cell_type": "markdown",
   "metadata": {
    "variables": {
     "footnotes.output()": "<ol><li id=fn_1>This is the first footnote<a href=#fnret_1>&#8629;</a></li></ol>"
    }
   },
   "source": [
    "#### Footnotes\n",
    "{{footnotes.output()}}"
   ]
  },
  {
   "cell_type": "markdown",
   "metadata": {
    "variables": {
     "%titleblock Hello World|Subtitle|Me": "<div class=\"title_block\">                 <div class=\"logo\"></div>                 <div class=\"navigator\">                     <span class=\"title\">Hello World</span>                     <span class=\"date\">2019-07-07</span>                 </div>             </div>             <div class=\"notebook_subtitle\">Subtitle</div>             <div class=\"notebook_author\">Me</div>"
    }
   },
   "source": [
    "{{%titleblock Hello World|Subtitle|Me}}"
   ]
  },
  {
   "cell_type": "code",
   "execution_count": null,
   "metadata": {},
   "outputs": [],
   "source": []
  }
 ],
 "metadata": {
  "hide_input": false,
  "kernelspec": {
   "display_name": "Python 3",
   "language": "python",
   "name": "python3"
  },
  "language_info": {
   "codemirror_mode": {
    "name": "ipython",
    "version": 3
   },
   "file_extension": ".py",
   "mimetype": "text/x-python",
   "name": "python",
   "nbconvert_exporter": "python",
   "pygments_lexer": "ipython3",
   "version": "3.7.3"
  },
  "varInspector": {
   "cols": {
    "lenName": 16,
    "lenType": 16,
    "lenVar": 40
   },
   "kernels_config": {
    "python": {
     "delete_cmd_postfix": "",
     "delete_cmd_prefix": "del ",
     "library": "var_list.py",
     "varRefreshCmd": "print(var_dic_list())"
    },
    "r": {
     "delete_cmd_postfix": ") ",
     "delete_cmd_prefix": "rm(",
     "library": "var_list.r",
     "varRefreshCmd": "cat(var_dic_list()) "
    }
   },
   "types_to_exclude": [
    "module",
    "function",
    "builtin_function_or_method",
    "instance",
    "_Feature"
   ],
   "window_display": false
  }
 },
 "nbformat": 4,
 "nbformat_minor": 2
}
