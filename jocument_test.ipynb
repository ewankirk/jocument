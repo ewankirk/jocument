{
 "cells": [
  {
   "cell_type": "code",
   "execution_count": 1,
   "metadata": {},
   "outputs": [],
   "source": [
    "%load_ext autoreload\n",
    "%autoreload 1\n",
    "%aimport jocument\n",
    "from jocument import Footnotes, Citations, Labels, CenterOutput, JocumentStyle"
   ]
  },
  {
   "cell_type": "code",
   "execution_count": 2,
   "metadata": {},
   "outputs": [],
   "source": [
    "formatter = JocumentStyle()\n",
    "footnotes = Footnotes(formatter)\n",
    "graphs = Labels('Graph')\n",
    "tables = Labels('Tables')\n",
    "citations = Citations()\n",
    "\n",
    "footnotes.add('first_note',\n",
    "'''This is the first footnote''')\n",
    "footnotes.add('markdown_note',\n",
    "'''Markdown can be added to footnotes for example *emphasis* and\n",
    "footnotes [hyperlinks](http://www.google.com)\n",
    "''')\n",
    "footnotes.add('latex_note',\n",
    "'''$\\TeX$ can be added to notes such as $z_{n+1}=z_n^2 + c$ where $z, c \\in \\mathbb{C}$\n",
    "''')\n",
    "\n",
    "# Citations\n",
    "citations.reference('the_first_paper',\n",
    "    author='Jones, S.J. and Smith, P.R',\n",
    "    title='A paper written by somebody',\n",
    "    source='The Journal of Things, March 2019')"
   ]
  },
  {
   "cell_type": "code",
   "execution_count": null,
   "metadata": {},
   "outputs": [],
   "source": [
    "\n",
    "\n"
   ]
  },
  {
   "cell_type": "markdown",
   "metadata": {},
   "source": [
    "This is a sentence with a footnote.{{footnotes.ref('first_note')}} We can also refer to footnote {{footnotes.num('first_note')}} in the text.  As discussed in footnotes {{footnotes.num('markdown_note')}}\n",
    "and {{footnotes.num('latex_note')}} there are few restrictions{{footnotes.ref('markdown_note')}} on what can be in a footnote.{{footnotes.ref('latex_note')}}\n",
    "\n",
    "In {{citations.cite('the_first_paper')}} Jones and Smith write some stuff."
   ]
  },
  {
   "cell_type": "markdown",
   "metadata": {},
   "source": [
    "#### Footnotes\n",
    "{{footnotes.output()}}"
   ]
  },
  {
   "cell_type": "markdown",
   "metadata": {},
   "source": [
    "####  References\n",
    "{{citations.output()}}"
   ]
  },
  {
   "cell_type": "code",
   "execution_count": null,
   "metadata": {},
   "outputs": [],
   "source": []
  },
  {
   "cell_type": "code",
   "execution_count": 1,
   "metadata": {
    "ExecuteTime": {
     "end_time": "2019-09-17T15:24:48.037446Z",
     "start_time": "2019-09-17T15:24:47.982997Z"
    },
    "variables": {
     "%titleblock Hello World|Subtitle|Me": "<div class=\"title_block\">                 <div class=\"navigator\">                     <span class=\"title\">Hello World</span>                     <span class=\"date\">2019-09-17</span>                 </div>             </div>             <div class=\"notebook_subtitle\">Subtitle</div>             <div class=\"notebook_author\">Me</div>"
    }
   },
   "outputs": [
    {
     "data": {
      "text/html": [
       "<style>     div.labelcaption {         text-align: center;         font-style: italic;         font-size: smaller;         padding: 0px;         margin: 0 auto;         width: 50%;     }       /*************************     The Title Block for a report     **************************/     div.title_block{         -webkit-print-color-adjust: exact;         position:relative;         background-image: linear-gradient(to bottom right, #667D83,                                             #B3C7BF) !important;         height:210px !important;         color:white;         line-height:1em;     }       div.title_block div.logo{         height:             75%;     }      div.title_block div.navigator{         position:absolute;         height:25%;         bottom:0px;         width:100%;         background-color:   rgba(50, 50, 50, 0.7) !important;     }      div.title_block span.title{         text-transform: uppercase;         font-size:2em;         position: absolute;         bottom: 40%;         left: 1em;     }      div.title_block span.date{         text-transform: capitalize;         font-size:1.5em;         position: absolute;         bottom: 40%;         right: 1em;     }      div.notebook_subtitle{         text-transform:uppercase;         margin-top:2em;         margin-bottom:1em;         font-size:2em;         font-weight:bold;         text-align:center;     }      div.notebook_author{         font-weight:bold;         text-align:center;         margin-bottom:3em;     }      /*************************     Page Headers     **************************/      div.pageheader{         -webkit-print-color-adjust:exact !important;         height: 50px;         width: 100% !important;         border-bottom-style: solid;         border-bottom-width: thin;         border-bottom-color: #667D83;     }      div.pageheader span.maintext{         color:          #B3C7BF;         position:       relative;         font-size:      1.5em;         bottom:         0%;         vertical-align:  bottom;     }        /*************************     The Presentation Section Pages     **************************/      div.section_page{         height:             80vh;         background-color:   rgb(255, 255, 255);         background-position: right bottom;         background-repeat:  no-repeat;     }      div.section_page div.section_band{         background-color:   rgba(80, 87, 92, 0.7);         position:           relative;         top:                30%;         height:             40%;         width:              100%;     }      div.section_band div.section_text{         position: relative;         color: #FFFFFF;         top: 25%;         left: 10%;         width: 80%;         font-size: 2em;     }      div.section_band div.maintext1 {         position: relative;         color: #FFFFFF;         top: 20%;         left: 10%;         width: 80%;         font-size: 2em;     }     div.section_band div.maintext2 {         position: relative;         color: #FFFFFF;         top: 40%;         left: 10%;         width: 80%;         font-size: 2em;     }     div.section_band div.maintext3 {         position: relative;         color: #FFFFFF;         top: 60%;         left: 10%;         width: 80%;         font-size: 2em;     }       /*********************************************      Presentation Cover Pages      *****************************************************/     div.front_page{         height:             80vh;         background-color:   rgb(128, 128, 128);         background-position: right bottom;         background-repeat:  no-repeat;     }      div.front_page div.front_band{         background-color:   rgba(80, 87, 92, 0.7);         position:           relative;         top:                30%;         height:             40%;         width:              100%;     }      div.front_band div.front_text{         position: relative;         color: #FFFFFF;         top: 25%;         left: 10%;         width: 80%;         font-size: 2em;     }      div.front_band div.maintext1 {         position: relative;         color: #FFFFFF;         top: 20%;         left: 10%;         width: 80%;         font-size: 2em;     }     div.front_band div.maintext2 {         position: relative;         color: #FFFFFF;         top: 40%;         left: 10%;         width: 80%;         font-size: 2em;     }     div.front_band div.maintext3 {         position: relative;         color: #FFFFFF;         top: 60%;         left: 10%;         width: 80%;         font-size: 2em;     }     </style>"
      ]
     },
     "metadata": {},
     "output_type": "display_data"
    },
    {
     "data": {
      "text/html": [
       "<style>div.prompt {display:none}</style>"
      ]
     },
     "metadata": {},
     "output_type": "display_data"
    },
    {
     "data": {
      "text/html": [
       "<div class=\"title_block\">                 <div class=\"navigator\">                     <span class=\"title\">Hello World</span>                     <span class=\"date\">2019-09-17</span>                 </div>             </div>             <div class=\"notebook_subtitle\">Subtitle</div>             <div class=\"notebook_author\">Me</div>"
      ]
     },
     "metadata": {},
     "output_type": "display_data"
    }
   ],
   "source": [
    "%load_ext autoreload\n",
    "%aimport jocument.styling\n",
    "%j_css\n",
    "%prompt off\n",
    "%titleblock Hello World|Subtitle|Me"
   ]
  },
  {
   "cell_type": "code",
   "execution_count": 2,
   "metadata": {
    "ExecuteTime": {
     "end_time": "2019-09-17T15:24:49.489667Z",
     "start_time": "2019-09-17T15:24:49.478967Z"
    }
   },
   "outputs": [
    {
     "data": {
      "text/html": [
       "<div class=\"pageheader\">                     <span class=\"maintext\">Hello World</span>             </div>"
      ]
     },
     "metadata": {},
     "output_type": "display_data"
    }
   ],
   "source": [
    "%pageheader Hello World"
   ]
  },
  {
   "cell_type": "code",
   "execution_count": 3,
   "metadata": {
    "ExecuteTime": {
     "end_time": "2019-09-17T15:24:52.632699Z",
     "start_time": "2019-09-17T15:24:52.622254Z"
    },
    "slideshow": {
     "slide_type": "slide"
    }
   },
   "outputs": [
    {
     "data": {
      "text/html": [
       "<div class=\"front_page\">                 <div class=\"front_band\">                     <div class=\"maintext1\">Hello World</div>                     <div class=\"maintext2\">More Stuff</div>                     <div class=\"maintext3\">Me</div>                 </div>             </div>"
      ]
     },
     "metadata": {},
     "output_type": "display_data"
    }
   ],
   "source": [
    "%frontpage Hello World|More Stuff|Me"
   ]
  },
  {
   "cell_type": "markdown",
   "metadata": {
    "slideshow": {
     "slide_type": "slide"
    },
    "variables": {
     "%pageheader A page header": "<div class=\"pageheader\">                     <span class=\"maintext\">A page header</span>             </div>"
    }
   },
   "source": [
    "{{%pageheader A page header}}\n",
    "\n",
    "- Bullet 1\n",
    "- Bullet 2\n",
    "- Bullet 3\n",
    "    -   Subbullet 1\n",
    "    -   Subbullet 2\n",
    "- bullet 4"
   ]
  },
  {
   "cell_type": "code",
   "execution_count": 5,
   "metadata": {
    "ExecuteTime": {
     "end_time": "2019-09-17T15:24:54.836273Z",
     "start_time": "2019-09-17T15:24:54.828814Z"
    },
    "slideshow": {
     "slide_type": "slide"
    }
   },
   "outputs": [
    {
     "data": {
      "text/html": [
       "<div class=\"section_page\">                 <div class=\"section_band\">                     <div class=\"maintext1\">A Section Page</div>                     <div class=\"maintext2\">Line1</div>                     <div class=\"maintext3\">Line2</div>                 </div>             </div>"
      ]
     },
     "metadata": {},
     "output_type": "display_data"
    }
   ],
   "source": [
    "%sectionpage A Section Page|Line1|Line2"
   ]
  },
  {
   "cell_type": "code",
   "execution_count": null,
   "metadata": {},
   "outputs": [],
   "source": []
  },
  {
   "cell_type": "code",
   "execution_count": null,
   "metadata": {},
   "outputs": [],
   "source": []
  }
 ],
 "metadata": {
  "celltoolbar": "Slideshow",
  "hide_input": true,
  "kernelspec": {
   "display_name": "Python 3",
   "language": "python",
   "name": "python3"
  },
  "language_info": {
   "codemirror_mode": {
    "name": "ipython",
    "version": 3
   },
   "file_extension": ".py",
   "mimetype": "text/x-python",
   "name": "python",
   "nbconvert_exporter": "python",
   "pygments_lexer": "ipython3",
   "version": "3.7.4"
  },
  "latex_envs": {
   "LaTeX_envs_menu_present": true,
   "autoclose": false,
   "autocomplete": true,
   "bibliofile": "biblio.bib",
   "cite_by": "apalike",
   "current_citInitial": 1,
   "eqLabelWithNumbers": true,
   "eqNumInitial": 1,
   "hotkeys": {
    "equation": "Ctrl-E",
    "itemize": "Ctrl-I"
   },
   "labels_anchors": false,
   "latex_user_defs": false,
   "report_style_numbering": false,
   "user_envs_cfg": false
  },
  "varInspector": {
   "cols": {
    "lenName": 16,
    "lenType": 16,
    "lenVar": 40
   },
   "kernels_config": {
    "python": {
     "delete_cmd_postfix": "",
     "delete_cmd_prefix": "del ",
     "library": "var_list.py",
     "varRefreshCmd": "print(var_dic_list())"
    },
    "r": {
     "delete_cmd_postfix": ") ",
     "delete_cmd_prefix": "rm(",
     "library": "var_list.r",
     "varRefreshCmd": "cat(var_dic_list()) "
    }
   },
   "types_to_exclude": [
    "module",
    "function",
    "builtin_function_or_method",
    "instance",
    "_Feature"
   ],
   "window_display": false
  }
 },
 "nbformat": 4,
 "nbformat_minor": 4
}
